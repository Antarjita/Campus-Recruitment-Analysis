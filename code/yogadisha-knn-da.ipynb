{
 "cells": [
  {
   "cell_type": "code",
   "execution_count": 1,
   "metadata": {
    "_execution_state": "idle",
    "_uuid": "051d70d956493feee0c6d64651c6a088724dca2a",
    "execution": {
     "iopub.execute_input": "2020-11-14T16:35:07.681765Z",
     "iopub.status.busy": "2020-11-14T16:35:07.679607Z",
     "iopub.status.idle": "2020-11-14T16:35:08.990208Z",
     "shell.execute_reply": "2020-11-14T16:35:08.988459Z"
    },
    "papermill": {
     "duration": 1.35021,
     "end_time": "2020-11-14T16:35:08.990497",
     "exception": false,
     "start_time": "2020-11-14T16:35:07.640287",
     "status": "completed"
    },
    "tags": []
   },
   "outputs": [
    {
     "name": "stderr",
     "output_type": "stream",
     "text": [
      "── \u001b[1mAttaching packages\u001b[22m ─────────────────────────────────────── tidyverse 1.3.0 ──\n",
      "\n",
      "\u001b[32m✔\u001b[39m \u001b[34mggplot2\u001b[39m 3.3.2     \u001b[32m✔\u001b[39m \u001b[34mpurrr  \u001b[39m 0.3.4\n",
      "\u001b[32m✔\u001b[39m \u001b[34mtibble \u001b[39m 3.0.4     \u001b[32m✔\u001b[39m \u001b[34mdplyr  \u001b[39m 1.0.2\n",
      "\u001b[32m✔\u001b[39m \u001b[34mtidyr  \u001b[39m 1.1.2     \u001b[32m✔\u001b[39m \u001b[34mstringr\u001b[39m 1.4.0\n",
      "\u001b[32m✔\u001b[39m \u001b[34mreadr  \u001b[39m 1.4.0     \u001b[32m✔\u001b[39m \u001b[34mforcats\u001b[39m 0.5.0\n",
      "\n",
      "── \u001b[1mConflicts\u001b[22m ────────────────────────────────────────── tidyverse_conflicts() ──\n",
      "\u001b[31m✖\u001b[39m \u001b[34mdplyr\u001b[39m::\u001b[32mfilter()\u001b[39m masks \u001b[34mstats\u001b[39m::filter()\n",
      "\u001b[31m✖\u001b[39m \u001b[34mdplyr\u001b[39m::\u001b[32mlag()\u001b[39m    masks \u001b[34mstats\u001b[39m::lag()\n",
      "\n"
     ]
    },
    {
     "data": {
      "text/html": [
       "'factors-affecting-campus-placement'"
      ],
      "text/latex": [
       "'factors-affecting-campus-placement'"
      ],
      "text/markdown": [
       "'factors-affecting-campus-placement'"
      ],
      "text/plain": [
       "[1] \"factors-affecting-campus-placement\""
      ]
     },
     "metadata": {},
     "output_type": "display_data"
    }
   ],
   "source": [
    "# This R environment comes with many helpful analytics packages installed\n",
    "# It is defined by the kaggle/rstats Docker image: https://github.com/kaggle/docker-rstats\n",
    "# For example, here's a helpful package to load\n",
    "\n",
    "library(tidyverse) # metapackage of all tidyverse packages\n",
    "\n",
    "# Input data files are available in the read-only \"../input/\" directory\n",
    "# For example, running this (by clicking run or pressing Shift+Enter) will list all files under the input directory\n",
    "\n",
    "list.files(path = \"../input\")\n",
    "\n",
    "# You can write up to 20GB to the current directory (/kaggle/working/) that gets preserved as output when you create a version using \"Save & Run All\" \n",
    "# You can also write temporary files to /kaggle/temp/, but they won't be saved outside of the current session"
   ]
  },
  {
   "cell_type": "markdown",
   "metadata": {
    "papermill": {
     "duration": 0.011707,
     "end_time": "2020-11-14T16:35:09.015616",
     "exception": false,
     "start_time": "2020-11-14T16:35:09.003909",
     "status": "completed"
    },
    "tags": []
   },
   "source": [
    "loading data:"
   ]
  },
  {
   "cell_type": "code",
   "execution_count": 2,
   "metadata": {
    "execution": {
     "iopub.execute_input": "2020-11-14T16:35:09.074803Z",
     "iopub.status.busy": "2020-11-14T16:35:09.043403Z",
     "iopub.status.idle": "2020-11-14T16:35:11.215317Z",
     "shell.execute_reply": "2020-11-14T16:35:11.213715Z"
    },
    "papermill": {
     "duration": 2.188296,
     "end_time": "2020-11-14T16:35:11.215716",
     "exception": false,
     "start_time": "2020-11-14T16:35:09.027420",
     "status": "completed"
    },
    "tags": []
   },
   "outputs": [
    {
     "name": "stderr",
     "output_type": "stream",
     "text": [
      "Loading required package: Hmisc\n",
      "\n",
      "Loading required package: lattice\n",
      "\n",
      "Loading required package: survival\n",
      "\n",
      "Loading required package: Formula\n",
      "\n",
      "\n",
      "Attaching package: ‘Hmisc’\n",
      "\n",
      "\n",
      "The following objects are masked from ‘package:dplyr’:\n",
      "\n",
      "    src, summarize\n",
      "\n",
      "\n",
      "The following objects are masked from ‘package:base’:\n",
      "\n",
      "    format.pval, units\n",
      "\n",
      "\n",
      "funModeling v.1.9.4 :)\n",
      "Examples and tutorials at livebook.datascienceheroes.com\n",
      " / Now in Spanish: librovivodecienciadedatos.ai\n",
      "\n",
      "dummies-1.5.6 provided by Decision Patterns\n",
      "\n",
      "\n",
      "corrplot 0.84 loaded\n",
      "\n"
     ]
    }
   ],
   "source": [
    "library('funModeling') \n",
    "library('Hmisc')\n",
    "library('dummies')\n",
    "library('corrplot')\n",
    "library('gmodels')\n",
    "library('class')\n",
    "library('dummies')\n",
    "library('tidyr')"
   ]
  },
  {
   "cell_type": "code",
   "execution_count": 3,
   "metadata": {
    "execution": {
     "iopub.execute_input": "2020-11-14T16:35:11.251872Z",
     "iopub.status.busy": "2020-11-14T16:35:11.249435Z",
     "iopub.status.idle": "2020-11-14T16:35:11.446464Z",
     "shell.execute_reply": "2020-11-14T16:35:11.444942Z"
    },
    "papermill": {
     "duration": 0.216238,
     "end_time": "2020-11-14T16:35:11.446634",
     "exception": false,
     "start_time": "2020-11-14T16:35:11.230396",
     "status": "completed"
    },
    "tags": []
   },
   "outputs": [],
   "source": [
    "data <- read.csv((\"../input/factors-affecting-campus-placement/Placement_Data_Full_Class.csv\"))"
   ]
  },
  {
   "cell_type": "markdown",
   "metadata": {
    "papermill": {
     "duration": 0.014728,
     "end_time": "2020-11-14T16:35:11.476061",
     "exception": false,
     "start_time": "2020-11-14T16:35:11.461333",
     "status": "completed"
    },
    "tags": []
   },
   "source": [
    "data cleaning:\n",
    "\n",
    "* We can see there are some missing values at the salary column, corresponding to the students that weren't placed.Since we are interested on predicting the student's placement we drop the columns sl_no and salary provide no interest to us.\n",
    "\n",
    "* transformation of categorical data\n",
    "\n",
    "* normilization"
   ]
  },
  {
   "cell_type": "code",
   "execution_count": 4,
   "metadata": {
    "execution": {
     "iopub.execute_input": "2020-11-14T16:35:11.511656Z",
     "iopub.status.busy": "2020-11-14T16:35:11.509499Z",
     "iopub.status.idle": "2020-11-14T16:35:11.531410Z",
     "shell.execute_reply": "2020-11-14T16:35:11.529913Z"
    },
    "papermill": {
     "duration": 0.041129,
     "end_time": "2020-11-14T16:35:11.531564",
     "exception": false,
     "start_time": "2020-11-14T16:35:11.490435",
     "status": "completed"
    },
    "tags": []
   },
   "outputs": [],
   "source": [
    "\n",
    "#Dropping sl_no column and salary columns\n",
    "data = data[,!names(data) %in% 'sl_no']\n",
    "data = data[,!names(data) %in% 'salary']\n",
    "data[data==''] <- NA #To make sure missing data is NA"
   ]
  },
  {
   "cell_type": "code",
   "execution_count": 5,
   "metadata": {
    "execution": {
     "iopub.execute_input": "2020-11-14T16:35:11.567867Z",
     "iopub.status.busy": "2020-11-14T16:35:11.565927Z",
     "iopub.status.idle": "2020-11-14T16:35:11.606002Z",
     "shell.execute_reply": "2020-11-14T16:35:11.604382Z"
    },
    "papermill": {
     "duration": 0.059409,
     "end_time": "2020-11-14T16:35:11.606182",
     "exception": false,
     "start_time": "2020-11-14T16:35:11.546773",
     "status": "completed"
    },
    "tags": []
   },
   "outputs": [
    {
     "name": "stderr",
     "output_type": "stream",
     "text": [
      "Warning message in fastDummies::dummy_cols(data, select_columns = categorical):\n",
      "“NOTE: The following select_columns input(s) is not a column in data.\n",
      "\t”\n"
     ]
    }
   ],
   "source": [
    "#First we need to transform all our categorical variables (apart from our target variable: status) into numerical by creating dummy bolooen columns.\n",
    "categorical = c('gender','hsc_s','ssc_b','hsc_b','ssc_s','degree_t','workex','specialisation')\n",
    "results <- fastDummies::dummy_cols(data, select_columns = categorical) #creating the dummy columns\n",
    "res <- results[, !(names(results) %in% categorical)] #deleting initial columns"
   ]
  },
  {
   "cell_type": "code",
   "execution_count": 6,
   "metadata": {
    "execution": {
     "iopub.execute_input": "2020-11-14T16:35:11.642703Z",
     "iopub.status.busy": "2020-11-14T16:35:11.640599Z",
     "iopub.status.idle": "2020-11-14T16:35:11.665363Z",
     "shell.execute_reply": "2020-11-14T16:35:11.663871Z"
    },
    "papermill": {
     "duration": 0.044189,
     "end_time": "2020-11-14T16:35:11.665521",
     "exception": false,
     "start_time": "2020-11-14T16:35:11.621332",
     "status": "completed"
    },
    "tags": []
   },
   "outputs": [],
   "source": [
    "#Afterwards we need to normalize the quantitative variables to express them in the same range of values.\n",
    "\n",
    "#Normalize() funciton\n",
    "normalize <- function(x) {\n",
    "num <- x - min(x)\n",
    "denom <- max(x) - min(x)\n",
    "return (num/denom)\n",
    "}\n",
    "\n",
    "# Normalize our placement dataset\n",
    "plac_norm <- as.data.frame(lapply(res[,c(1:5,7:22)], normalize)) #all columns apart from status (column 6)"
   ]
  },
  {
   "cell_type": "markdown",
   "metadata": {
    "papermill": {
     "duration": 0.015059,
     "end_time": "2020-11-14T16:35:11.695900",
     "exception": false,
     "start_time": "2020-11-14T16:35:11.680841",
     "status": "completed"
    },
    "tags": []
   },
   "source": [
    "spliting dataset:"
   ]
  },
  {
   "cell_type": "code",
   "execution_count": 7,
   "metadata": {
    "execution": {
     "iopub.execute_input": "2020-11-14T16:35:11.733080Z",
     "iopub.status.busy": "2020-11-14T16:35:11.731360Z",
     "iopub.status.idle": "2020-11-14T16:35:11.752374Z",
     "shell.execute_reply": "2020-11-14T16:35:11.751021Z"
    },
    "papermill": {
     "duration": 0.040691,
     "end_time": "2020-11-14T16:35:11.752529",
     "exception": false,
     "start_time": "2020-11-14T16:35:11.711838",
     "status": "completed"
    },
    "tags": []
   },
   "outputs": [],
   "source": [
    "#Then we split the data set into two: a training set(2/3) and a test set(1/3). The first is used to train the model, while the second is used to evaluate the trained model.\n",
    "\n",
    "set.seed(1234)\n",
    "#Training set will be 2/3 of original data set\n",
    "ind <- sample(2, nrow(plac_norm), replace=TRUE, prob=c(0.666, 0.334))\n",
    "\n",
    "plac.training <- plac_norm[ind == 1,]\n",
    "plac.test <- plac_norm[ind == 2,]"
   ]
  },
  {
   "cell_type": "code",
   "execution_count": 8,
   "metadata": {
    "execution": {
     "iopub.execute_input": "2020-11-14T16:35:11.790908Z",
     "iopub.status.busy": "2020-11-14T16:35:11.789154Z",
     "iopub.status.idle": "2020-11-14T16:35:11.804561Z",
     "shell.execute_reply": "2020-11-14T16:35:11.803296Z"
    },
    "papermill": {
     "duration": 0.035243,
     "end_time": "2020-11-14T16:35:11.804709",
     "exception": false,
     "start_time": "2020-11-14T16:35:11.769466",
     "status": "completed"
    },
    "tags": []
   },
   "outputs": [],
   "source": [
    "#Creating a vector for each train/test dataset with our target variable \"status\".\n",
    "\n",
    "plac.trainLabels <- res[ind==1,6] #column 6 is our target.\n",
    "plac.testLabels <- res[ind==2,6]"
   ]
  },
  {
   "cell_type": "markdown",
   "metadata": {
    "papermill": {
     "duration": 0.015365,
     "end_time": "2020-11-14T16:35:11.835424",
     "exception": false,
     "start_time": "2020-11-14T16:35:11.820059",
     "status": "completed"
    },
    "tags": []
   },
   "source": [
    "KNN approach:"
   ]
  },
  {
   "cell_type": "code",
   "execution_count": 9,
   "metadata": {
    "execution": {
     "iopub.execute_input": "2020-11-14T16:35:11.872262Z",
     "iopub.status.busy": "2020-11-14T16:35:11.870648Z",
     "iopub.status.idle": "2020-11-14T16:35:11.890269Z",
     "shell.execute_reply": "2020-11-14T16:35:11.889017Z"
    },
    "papermill": {
     "duration": 0.039663,
     "end_time": "2020-11-14T16:35:11.890422",
     "exception": false,
     "start_time": "2020-11-14T16:35:11.850759",
     "status": "completed"
    },
    "tags": []
   },
   "outputs": [],
   "source": [
    "#Now we want to find the k nearest neighbors of our training set.\n",
    "\n",
    "#We will be using the knn() function, which uses the Euclidian distance measure in order to find the k-nearest neighbors to our new, unknown instance. Here, k parameter needs to be set.\n",
    "\n",
    "# Execution of k-NN with k = 1\n",
    "knn_1 <- knn(plac.training, plac.test, plac.trainLabels, k=1, prob = TRUE)\n",
    "\n",
    "# Execution of k-NN with k = 2\n",
    "knn_2 <- knn(plac.training, plac.test, plac.trainLabels, k=2, prob = TRUE)"
   ]
  },
  {
   "cell_type": "markdown",
   "metadata": {
    "papermill": {
     "duration": 0.015739,
     "end_time": "2020-11-14T16:35:11.921905",
     "exception": false,
     "start_time": "2020-11-14T16:35:11.906166",
     "status": "completed"
    },
    "tags": []
   },
   "source": [
    "To evaluate our model we will use a confusion matrix and the calculated model accuracy with different values of k to study which one offers the best result."
   ]
  },
  {
   "cell_type": "code",
   "execution_count": 10,
   "metadata": {
    "execution": {
     "iopub.execute_input": "2020-11-14T16:35:11.961622Z",
     "iopub.status.busy": "2020-11-14T16:35:11.959471Z",
     "iopub.status.idle": "2020-11-14T16:35:11.992323Z",
     "shell.execute_reply": "2020-11-14T16:35:11.990770Z"
    },
    "papermill": {
     "duration": 0.052779,
     "end_time": "2020-11-14T16:35:11.992487",
     "exception": false,
     "start_time": "2020-11-14T16:35:11.939708",
     "status": "completed"
    },
    "tags": []
   },
   "outputs": [
    {
     "data": {
      "text/html": [
       "65.08"
      ],
      "text/latex": [
       "65.08"
      ],
      "text/markdown": [
       "65.08"
      ],
      "text/plain": [
       "[1] 65.08"
      ]
     },
     "metadata": {},
     "output_type": "display_data"
    },
    {
     "data": {
      "text/html": [
       "73.81"
      ],
      "text/latex": [
       "73.81"
      ],
      "text/markdown": [
       "73.81"
      ],
      "text/plain": [
       "[1] 73.81"
      ]
     },
     "metadata": {},
     "output_type": "display_data"
    },
    {
     "data": {
      "text/plain": [
       "               knn_1\n",
       "plac.testLabels Not Placed Placed\n",
       "     Not Placed         10     11\n",
       "     Placed             11     31"
      ]
     },
     "metadata": {},
     "output_type": "display_data"
    }
   ],
   "source": [
    "# Accuracy of KnnTestPrediction for k = 1\n",
    "round(sum(knn_1==plac.testLabels)/length(plac.testLabels)*100,2)\n",
    "\n",
    "\n",
    "# Confusion matrix of KnnTestPrediction for k = 1\n",
    "cm <- table(plac.testLabels, knn_1)\n",
    "\n",
    "# Precision of KnnTestPrediction for k = 1 of False Posites\n",
    "round((cm[2,2]/(cm[2,2]+cm[2,1]))*100,2)\n",
    "\n",
    "cm"
   ]
  },
  {
   "cell_type": "markdown",
   "metadata": {
    "papermill": {
     "duration": 0.017914,
     "end_time": "2020-11-14T16:35:12.028360",
     "exception": false,
     "start_time": "2020-11-14T16:35:12.010446",
     "status": "completed"
    },
    "tags": []
   },
   "source": [
    "We can interpret the matrix:\n",
    "\n",
    "10 of the 21 students in the test data are correctly predicted as \"Not Placed\", whereas the reamining 11 are misclassified;\n",
    "31 of the 42 students in the test data are correctly predicted as \"Placed\" and 11 are misclassfied.\n",
    "giving an accuracy of 65.08%\n",
    "giving a precision of 73.81%\n",
    "The model is doing a decent job predicting students to be placed (which is what we are most interested on) but doing a bad job on identifying students that weren't placed.\n",
    "\n",
    "On the run below with a k = 2 the model accuracy is the same, but it is doing a worse job since it decreased the number predicted \"Placed\" students, meaning that is increasing the \"False Positives\".\n",
    "Our goal is to correctly predict the students that will be placed and maxime the precision"
   ]
  },
  {
   "cell_type": "code",
   "execution_count": 11,
   "metadata": {
    "execution": {
     "iopub.execute_input": "2020-11-14T16:35:12.070667Z",
     "iopub.status.busy": "2020-11-14T16:35:12.068742Z",
     "iopub.status.idle": "2020-11-14T16:35:12.100505Z",
     "shell.execute_reply": "2020-11-14T16:35:12.099061Z"
    },
    "papermill": {
     "duration": 0.05456,
     "end_time": "2020-11-14T16:35:12.100657",
     "exception": false,
     "start_time": "2020-11-14T16:35:12.046097",
     "status": "completed"
    },
    "tags": []
   },
   "outputs": [
    {
     "data": {
      "text/html": [
       "65.08"
      ],
      "text/latex": [
       "65.08"
      ],
      "text/markdown": [
       "65.08"
      ],
      "text/plain": [
       "[1] 65.08"
      ]
     },
     "metadata": {},
     "output_type": "display_data"
    },
    {
     "data": {
      "text/html": [
       "71.43"
      ],
      "text/latex": [
       "71.43"
      ],
      "text/markdown": [
       "71.43"
      ],
      "text/plain": [
       "[1] 71.43"
      ]
     },
     "metadata": {},
     "output_type": "display_data"
    },
    {
     "data": {
      "text/plain": [
       "               knn_2\n",
       "plac.testLabels Not Placed Placed\n",
       "     Not Placed         11     10\n",
       "     Placed             12     30"
      ]
     },
     "metadata": {},
     "output_type": "display_data"
    }
   ],
   "source": [
    "# Accuracy of KnnTestPrediction for k = 2\n",
    "round(sum(plac.testLabels==knn_2)/length(plac.testLabels)*100,2)\n",
    "\n",
    "# Confusion matrix of KnnTestPrediction for k = 2\n",
    "cm <- table(plac.testLabels, knn_2)\n",
    "\n",
    "round((cm[2,2]/(cm[2,2]+cm[2,1]))*100,2)\n",
    "\n",
    "cm"
   ]
  },
  {
   "cell_type": "markdown",
   "metadata": {
    "papermill": {
     "duration": 0.0189,
     "end_time": "2020-11-14T16:35:12.138389",
     "exception": false,
     "start_time": "2020-11-14T16:35:12.119489",
     "status": "completed"
    },
    "tags": []
   },
   "source": [
    "To graphically show which values of k give us the best classification, we can plot \"Accuracy vs k number of Neighbors\""
   ]
  },
  {
   "cell_type": "code",
   "execution_count": 12,
   "metadata": {
    "execution": {
     "iopub.execute_input": "2020-11-14T16:35:12.182285Z",
     "iopub.status.busy": "2020-11-14T16:35:12.180154Z",
     "iopub.status.idle": "2020-11-14T16:35:12.837582Z",
     "shell.execute_reply": "2020-11-14T16:35:12.836894Z"
    },
    "papermill": {
     "duration": 0.680736,
     "end_time": "2020-11-14T16:35:12.837742",
     "exception": false,
     "start_time": "2020-11-14T16:35:12.157006",
     "status": "completed"
    },
    "tags": []
   },
   "outputs": [
    {
     "data": {
      "image/png": "[encoded data removed]"
     },
     "metadata": {
      "image/png": {
       "height": 420,
       "width": 420
      }
     },
     "output_type": "display_data"
    },
    {
     "data": {
      "image/png": "[encoded data removed]"
     },
     "metadata": {
      "image/png": {
       "height": 420,
       "width": 420
      }
     },
     "output_type": "display_data"
    }
   ],
   "source": [
    "# Creating the variables\n",
    "KnnTestPrediction <- list()\n",
    "accuracy <- numeric()\n",
    "precision <- numeric()\n",
    "\n",
    "# Simulating from k=1 to k=100...\n",
    "for(k in 1:100){\n",
    "\n",
    "  # KnnTestPrediction for each k\n",
    "  KnnTestPrediction[[k]] <- knn(plac.training, plac.test, plac.trainLabels, k, prob=TRUE)\n",
    "    \n",
    "  # Accuracy for each k   \n",
    "  accuracy[k] <- sum(KnnTestPrediction[[k]]==plac.testLabels)/length(plac.testLabels)*100\n",
    "  \n",
    "  #Precision for each k\n",
    "  precision[k] <- sum(KnnTestPrediction[[k]]==\"Placed\" & plac.testLabels==\"Placed\")/(sum((plac.testLabels==\"Placed\")))\n",
    "}\n",
    "\n",
    "# Accuracy vs number of k\n",
    "plot(accuracy, type=\"b\", col=\"dodgerblue\", cex=1, pch=20,\n",
    "     xlab=\"k, number of neighbors\", ylab=\"Classification accuracy\", \n",
    "     main=\"Accuracy vs Neighbors\")\n",
    "\n",
    "# line for k with best accuracy\n",
    "abline(v=which(accuracy==max(accuracy)), col=\"darkorange\", lwd=1.5)\n",
    "\n",
    "# line for max accuracy seen\n",
    "abline(h=max(accuracy), col=\"grey\", lty=2)\n",
    "\n",
    "# line for min accuracy seen\n",
    "abline(h=min(accuracy), col=\"grey\", lty=2)\n",
    "\n",
    "\n",
    "# Accuracy vs number of k\n",
    "plot(precision, type=\"b\", col=\"darkgreen\", cex=1, pch=20,\n",
    "     xlab=\"k, number of neighbors\", ylab=\"Classification precision\", \n",
    "     main=\"Precision vs Neighbors\")\n",
    "\n",
    "# line for k with best precision\n",
    "abline(v=which(precision==max(precision)), col=\"darkorange\", lwd=1.5)\n",
    "\n",
    "# line for max accuracy seen\n",
    "abline(h=max(precision), col=\"grey\", lty=2)\n",
    "\n",
    "# line for min accuracy seen\n",
    "abline(h=min(precision), col=\"grey\", lty=2)"
   ]
  },
  {
   "cell_type": "code",
   "execution_count": 13,
   "metadata": {
    "execution": {
     "iopub.execute_input": "2020-11-14T16:35:12.889265Z",
     "iopub.status.busy": "2020-11-14T16:35:12.887888Z",
     "iopub.status.idle": "2020-11-14T16:35:12.915682Z",
     "shell.execute_reply": "2020-11-14T16:35:12.914594Z"
    },
    "papermill": {
     "duration": 0.054588,
     "end_time": "2020-11-14T16:35:12.915836",
     "exception": false,
     "start_time": "2020-11-14T16:35:12.861248",
     "status": "completed"
    },
    "tags": []
   },
   "outputs": [
    {
     "data": {
      "text/html": [
       "71.43"
      ],
      "text/latex": [
       "71.43"
      ],
      "text/markdown": [
       "71.43"
      ],
      "text/plain": [
       "[1] 71.43"
      ]
     },
     "metadata": {},
     "output_type": "display_data"
    },
    {
     "data": {
      "text/html": [
       "0.9"
      ],
      "text/latex": [
       "0.9"
      ],
      "text/markdown": [
       "0.9"
      ],
      "text/plain": [
       "[1] 0.9"
      ]
     },
     "metadata": {},
     "output_type": "display_data"
    },
    {
     "data": {
      "text/plain": [
       "               knn\n",
       "plac.testLabels Not Placed Placed\n",
       "     Not Placed          7     14\n",
       "     Placed              4     38"
      ]
     },
     "metadata": {},
     "output_type": "display_data"
    }
   ],
   "source": [
    "# Execution of k-NN with k = 6\n",
    "knn <- knn(plac.training, plac.test, plac.trainLabels, k=6, prob = TRUE)\n",
    "\n",
    "# Accuracy of KnnTestPrediction for k = 6\n",
    "round(sum(plac.testLabels==knn)/length(plac.testLabels)*100,2)\n",
    "\n",
    "#Precision of KnnTestPrediction for k = 6\n",
    "\n",
    "round(sum(plac.testLabels == \"Placed\" & knn == \"Placed\")/sum((plac.testLabels==\"Placed\")),2)\n",
    "\n",
    "# Confusion matrix of KnnTestPrediction for k = 6\n",
    "table(plac.testLabels, knn)"
   ]
  },
  {
   "cell_type": "markdown",
   "metadata": {
    "papermill": {
     "duration": 0.023947,
     "end_time": "2020-11-14T16:35:12.963596",
     "exception": false,
     "start_time": "2020-11-14T16:35:12.939649",
     "status": "completed"
    },
    "tags": []
   },
   "source": [
    "To reach the maximum accuracy with this model the k value is 6. The model is doing a great job with a high accuracy and only mispredicting very few \"Placed\" student.\n",
    "\n",
    "We could achieve higher precision of 100% with k > 14 but we could be suffering from overfitting our data."
   ]
  }
 ],
 "metadata": {
  "kernelspec": {
   "display_name": "R",
   "language": "R",
   "name": "ir"
  },
  "language_info": {
   "codemirror_mode": "r",
   "file_extension": ".r",
   "mimetype": "text/x-r-source",
   "name": "R",
   "pygments_lexer": "r",
   "version": "3.6.3"
  },
  "papermill": {
   "default_parameters": {},
   "duration": 8.674354,
   "end_time": "2020-11-14T16:35:13.099657",
   "environment_variables": {},
   "exception": null,
   "input_path": "__notebook__.ipynb",
   "output_path": "__notebook__.ipynb",
   "parameters": {},
   "start_time": "2020-11-14T16:35:04.425303",
   "version": "2.2.0"
  }
 },
 "nbformat": 4,
 "nbformat_minor": 4
}
